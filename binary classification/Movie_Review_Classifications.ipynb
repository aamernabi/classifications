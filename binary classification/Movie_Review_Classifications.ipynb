{
  "nbformat": 4,
  "nbformat_minor": 0,
  "metadata": {
    "colab": {
      "name": "Movie Review Classifications.ipynb",
      "provenance": [],
      "collapsed_sections": []
    },
    "kernelspec": {
      "name": "python3",
      "display_name": "Python 3"
    }
  },
  "cells": [
    {
      "cell_type": "markdown",
      "metadata": {
        "id": "fFzzff_wfAVW",
        "colab_type": "text"
      },
      "source": [
        "# IMDB Movie Reviews Classification (Binary Classification)"
      ]
    },
    {
      "cell_type": "code",
      "metadata": {
        "id": "H10xy78LjEyD",
        "colab_type": "code",
        "colab": {}
      },
      "source": [
        "# imports\n",
        "from __future__ import absolute_import, division, print_function, unicode_literals\n",
        "\n",
        "import numpy as np"
      ],
      "execution_count": 1,
      "outputs": []
    },
    {
      "cell_type": "code",
      "metadata": {
        "id": "rrdH9wmIjOOW",
        "colab_type": "code",
        "colab": {
          "base_uri": "https://localhost:8080/",
          "height": 35
        },
        "outputId": "cdf6dd8b-d750-4417-bd7d-a954d87c1f25"
      },
      "source": [
        "import keras\n",
        "from keras.datasets import imdb"
      ],
      "execution_count": 2,
      "outputs": [
        {
          "output_type": "stream",
          "text": [
            "Using TensorFlow backend.\n"
          ],
          "name": "stderr"
        }
      ]
    },
    {
      "cell_type": "code",
      "metadata": {
        "id": "RAAOQB-Nm30y",
        "colab_type": "code",
        "colab": {
          "base_uri": "https://localhost:8080/",
          "height": 108
        },
        "outputId": "679c3343-1644-46fe-842f-fd535e98e129"
      },
      "source": [
        "(train_data, train_labels), (test_data, test_labels) = imdb.load_data(num_words=10000)\n",
        "\n",
        "print(f\"training data: ${train_data.shape}\")\n",
        "print(f\"training labels: ${train_labels.shape}\")\n",
        "\n",
        "print()\n",
        "\n",
        "print(f\"test data: ${test_data.shape}\")\n",
        "print(f\"test labels: ${test_labels.shape}\")"
      ],
      "execution_count": 3,
      "outputs": [
        {
          "output_type": "stream",
          "text": [
            "training data: $(25000,)\n",
            "training labels: $(25000,)\n",
            "\n",
            "test data: $(25000,)\n",
            "test labels: $(25000,)\n"
          ],
          "name": "stdout"
        }
      ]
    },
    {
      "cell_type": "code",
      "metadata": {
        "id": "OjDZz-DHAMm7",
        "colab_type": "code",
        "colab": {
          "base_uri": "https://localhost:8080/",
          "height": 73
        },
        "outputId": "cebdcb72-63c4-44b9-857e-ba5059baeeff"
      },
      "source": [
        "print(train_data[2])\n",
        "print(len(train_data[2]))"
      ],
      "execution_count": 4,
      "outputs": [
        {
          "output_type": "stream",
          "text": [
            "[1, 14, 47, 8, 30, 31, 7, 4, 249, 108, 7, 4, 5974, 54, 61, 369, 13, 71, 149, 14, 22, 112, 4, 2401, 311, 12, 16, 3711, 33, 75, 43, 1829, 296, 4, 86, 320, 35, 534, 19, 263, 4821, 1301, 4, 1873, 33, 89, 78, 12, 66, 16, 4, 360, 7, 4, 58, 316, 334, 11, 4, 1716, 43, 645, 662, 8, 257, 85, 1200, 42, 1228, 2578, 83, 68, 3912, 15, 36, 165, 1539, 278, 36, 69, 2, 780, 8, 106, 14, 6905, 1338, 18, 6, 22, 12, 215, 28, 610, 40, 6, 87, 326, 23, 2300, 21, 23, 22, 12, 272, 40, 57, 31, 11, 4, 22, 47, 6, 2307, 51, 9, 170, 23, 595, 116, 595, 1352, 13, 191, 79, 638, 89, 2, 14, 9, 8, 106, 607, 624, 35, 534, 6, 227, 7, 129, 113]\n",
            "141\n"
          ],
          "name": "stdout"
        }
      ]
    },
    {
      "cell_type": "code",
      "metadata": {
        "id": "dzS09amMA32D",
        "colab_type": "code",
        "colab": {
          "base_uri": "https://localhost:8080/",
          "height": 35
        },
        "outputId": "c3edfea7-f67f-4bb6-fc55-2cf3ac0c09d0"
      },
      "source": [
        "train_labels[2]"
      ],
      "execution_count": 5,
      "outputs": [
        {
          "output_type": "execute_result",
          "data": {
            "text/plain": [
              "0"
            ]
          },
          "metadata": {
            "tags": []
          },
          "execution_count": 5
        }
      ]
    },
    {
      "cell_type": "code",
      "metadata": {
        "id": "DaV4B6L2HmJC",
        "colab_type": "code",
        "colab": {
          "base_uri": "https://localhost:8080/",
          "height": 35
        },
        "outputId": "242df41e-7190-4af1-8524-b5b0f4cdba98"
      },
      "source": [
        "print(max(max(s) for s in train_data))"
      ],
      "execution_count": 6,
      "outputs": [
        {
          "output_type": "stream",
          "text": [
            "9999\n"
          ],
          "name": "stdout"
        }
      ]
    },
    {
      "cell_type": "markdown",
      "metadata": {
        "id": "DCYvxQFwI6It",
        "colab_type": "text"
      },
      "source": [
        "### Reverse reviews back to english"
      ]
    },
    {
      "cell_type": "code",
      "metadata": {
        "id": "Ori07e_yItL5",
        "colab_type": "code",
        "colab": {}
      },
      "source": [
        "def decode_imdb_review(word_index_dict, item):\n",
        "  #reverse word_index\n",
        "  index_word_dict = dict([(value, index) for (index, value) in word_index_dict.items()])\n",
        "  return ' '.join([index_word_dict.get(i-3, '?') for i in item]) #offset by 3, 0, 1, 2 reserved for \"padding\", \"start of sequence\", and \"unknown\""
      ],
      "execution_count": 7,
      "outputs": []
    },
    {
      "cell_type": "code",
      "metadata": {
        "id": "Enc-LbVuN3kP",
        "colab_type": "code",
        "colab": {
          "base_uri": "https://localhost:8080/",
          "height": 55
        },
        "outputId": "0b7fb973-1c1e-4e14-8a20-b22a31a106ca"
      },
      "source": [
        "review = decode_imdb_review(imdb.get_word_index(), train_data[1432])\n",
        "print(review)"
      ],
      "execution_count": 8,
      "outputs": [
        {
          "output_type": "stream",
          "text": [
            "? it's a pretty good cast but the film has nowhere near the grace of the original italian comedy big deal on madonna street anyone looking for an entertaining caper film should visit the original william macy may be one of our greatest living actors but here he's put to little use and his role in the original was played by ? mastroianni so i sort of feel sorry for him trying to fill those shoes might as well try to imitate bogart or a young de niro the art direction is rich and ? but brings nothing to the story the extra bits they add to the story feel completely unnecessary and the things they take away are missed even starting the way they do seems ? gratuitous and takes away from the surprise of the original sam ? has his odd and ? charm and luis ? has that odd charisma but the love story part of the movie just seems clunky and flat it's too bad nobody has figured out how to make this movie as well as it was first made but then again it's too bad we live in a culture where we feel like we need to remake amazing things instead of simply learning to ? the originals\n"
          ],
          "name": "stdout"
        }
      ]
    },
    {
      "cell_type": "markdown",
      "metadata": {
        "id": "EMO0wXuGOsMb",
        "colab_type": "text"
      },
      "source": [
        "### Prepare the data"
      ]
    },
    {
      "cell_type": "code",
      "metadata": {
        "id": "yHNG42CEOvVy",
        "colab_type": "code",
        "colab": {}
      },
      "source": [
        "def vectorize(sequences, dim=10000):\n",
        "  result = np.zeros((len(sequences), dim))\n",
        "  for i, seq in enumerate(sequences):\n",
        "    result[i, seq] = 1\n",
        "  return result"
      ],
      "execution_count": 9,
      "outputs": []
    },
    {
      "cell_type": "code",
      "metadata": {
        "id": "6FLD9zklznWG",
        "colab_type": "code",
        "colab": {}
      },
      "source": [
        "x_train = vectorize(train_data)\n",
        "x_test = vectorize(test_data)"
      ],
      "execution_count": 10,
      "outputs": []
    },
    {
      "cell_type": "code",
      "metadata": {
        "id": "w0luQ3Z5z_Aa",
        "colab_type": "code",
        "colab": {}
      },
      "source": [
        "y_train = np.asarray(train_labels).astype('float32') \n",
        "y_test = np.asarray(test_labels).astype('float32')"
      ],
      "execution_count": 11,
      "outputs": []
    },
    {
      "cell_type": "code",
      "metadata": {
        "id": "63HBIidu25OK",
        "colab_type": "code",
        "colab": {}
      },
      "source": [
        "from keras.layers import Dense\n",
        "from keras.models import Sequential\n",
        "\n",
        "\n",
        "model = Sequential()\n",
        "model.add(Dense(16, activation='relu', input_shape=(10000,)))\n",
        "model.add(Dense(16, activation='relu'))\n",
        "model.add(Dense(1, activation='sigmoid'))"
      ],
      "execution_count": 12,
      "outputs": []
    },
    {
      "cell_type": "code",
      "metadata": {
        "id": "XJvpsZgYEdVh",
        "colab_type": "code",
        "colab": {}
      },
      "source": [
        "model.compile(\n",
        "    optimizer='rmsprop',\n",
        "    loss='binary_crossentropy',\n",
        "    metrics=['accuracy']\n",
        ")"
      ],
      "execution_count": 13,
      "outputs": []
    },
    {
      "cell_type": "code",
      "metadata": {
        "id": "0koRx0CuFIUL",
        "colab_type": "code",
        "colab": {}
      },
      "source": [
        "#set validation data\n",
        "x_val = x_train[:10000]\n",
        "partial_x_trian = x_train[10000:]\n",
        "\n",
        "y_val = y_train[:10000]\n",
        "partial_y_train = y_train[10000:]"
      ],
      "execution_count": 14,
      "outputs": []
    },
    {
      "cell_type": "code",
      "metadata": {
        "id": "9Aa7YMvbF88X",
        "colab_type": "code",
        "colab": {
          "base_uri": "https://localhost:8080/",
          "height": 764
        },
        "outputId": "250329d6-27d1-4110-8509-43f3a2d5dc95"
      },
      "source": [
        ""
      ],
      "execution_count": 15,
      "outputs": [
        {
          "output_type": "stream",
          "text": [
            "Train on 15000 samples, validate on 10000 samples\n",
            "Epoch 1/20\n",
            "15000/15000 [==============================] - 2s 118us/step - loss: 0.5183 - accuracy: 0.7834 - val_loss: 0.3983 - val_accuracy: 0.8627\n",
            "Epoch 2/20\n",
            "15000/15000 [==============================] - 1s 97us/step - loss: 0.3122 - accuracy: 0.8998 - val_loss: 0.3132 - val_accuracy: 0.8810\n",
            "Epoch 3/20\n",
            "15000/15000 [==============================] - 1s 98us/step - loss: 0.2278 - accuracy: 0.9273 - val_loss: 0.3203 - val_accuracy: 0.8676\n",
            "Epoch 4/20\n",
            "15000/15000 [==============================] - 1s 99us/step - loss: 0.1795 - accuracy: 0.9435 - val_loss: 0.3192 - val_accuracy: 0.8710\n",
            "Epoch 5/20\n",
            "15000/15000 [==============================] - 1s 97us/step - loss: 0.1485 - accuracy: 0.9523 - val_loss: 0.2834 - val_accuracy: 0.8894\n",
            "Epoch 6/20\n",
            "15000/15000 [==============================] - 1s 98us/step - loss: 0.1231 - accuracy: 0.9618 - val_loss: 0.2920 - val_accuracy: 0.8865\n",
            "Epoch 7/20\n",
            "15000/15000 [==============================] - 1s 98us/step - loss: 0.1012 - accuracy: 0.9709 - val_loss: 0.3055 - val_accuracy: 0.8837\n",
            "Epoch 8/20\n",
            "15000/15000 [==============================] - 1s 97us/step - loss: 0.0850 - accuracy: 0.9755 - val_loss: 0.3376 - val_accuracy: 0.8821\n",
            "Epoch 9/20\n",
            "15000/15000 [==============================] - 1s 99us/step - loss: 0.0684 - accuracy: 0.9832 - val_loss: 0.3575 - val_accuracy: 0.8804\n",
            "Epoch 10/20\n",
            "15000/15000 [==============================] - 1s 98us/step - loss: 0.0582 - accuracy: 0.9852 - val_loss: 0.3685 - val_accuracy: 0.8788\n",
            "Epoch 11/20\n",
            "15000/15000 [==============================] - 1s 98us/step - loss: 0.0448 - accuracy: 0.9901 - val_loss: 0.4168 - val_accuracy: 0.8694\n",
            "Epoch 12/20\n",
            "15000/15000 [==============================] - 1s 100us/step - loss: 0.0373 - accuracy: 0.9919 - val_loss: 0.4515 - val_accuracy: 0.8744\n",
            "Epoch 13/20\n",
            "15000/15000 [==============================] - 1s 96us/step - loss: 0.0301 - accuracy: 0.9943 - val_loss: 0.4561 - val_accuracy: 0.8738\n",
            "Epoch 14/20\n",
            "15000/15000 [==============================] - 1s 96us/step - loss: 0.0246 - accuracy: 0.9949 - val_loss: 0.4883 - val_accuracy: 0.8746\n",
            "Epoch 15/20\n",
            "15000/15000 [==============================] - 1s 97us/step - loss: 0.0178 - accuracy: 0.9973 - val_loss: 0.5325 - val_accuracy: 0.8736\n",
            "Epoch 16/20\n",
            "15000/15000 [==============================] - 1s 97us/step - loss: 0.0141 - accuracy: 0.9983 - val_loss: 0.5562 - val_accuracy: 0.8730\n",
            "Epoch 17/20\n",
            "15000/15000 [==============================] - 1s 98us/step - loss: 0.0105 - accuracy: 0.9989 - val_loss: 0.5880 - val_accuracy: 0.8717\n",
            "Epoch 18/20\n",
            "15000/15000 [==============================] - 1s 98us/step - loss: 0.0110 - accuracy: 0.9979 - val_loss: 0.6207 - val_accuracy: 0.8704\n",
            "Epoch 19/20\n",
            "15000/15000 [==============================] - 1s 98us/step - loss: 0.0049 - accuracy: 0.9997 - val_loss: 0.6639 - val_accuracy: 0.8696\n",
            "Epoch 20/20\n",
            "15000/15000 [==============================] - 1s 97us/step - loss: 0.0067 - accuracy: 0.9987 - val_loss: 0.6913 - val_accuracy: 0.8675\n"
          ],
          "name": "stdout"
        }
      ]
    },
    {
      "cell_type": "code",
      "metadata": {
        "id": "kex7-bowGtzf",
        "colab_type": "code",
        "colab": {
          "base_uri": "https://localhost:8080/",
          "height": 35
        },
        "outputId": "1870e249-809c-4dbc-d9ca-4b9e2590409f"
      },
      "source": [
        "history.history.keys()"
      ],
      "execution_count": 16,
      "outputs": [
        {
          "output_type": "execute_result",
          "data": {
            "text/plain": [
              "dict_keys(['val_loss', 'val_accuracy', 'loss', 'accuracy'])"
            ]
          },
          "metadata": {
            "tags": []
          },
          "execution_count": 16
        }
      ]
    },
    {
      "cell_type": "code",
      "metadata": {
        "id": "XP8qhub1Ihdn",
        "colab_type": "code",
        "colab": {}
      },
      "source": [
        "import matplotlib.pyplot as plt\n",
        "\n",
        "def plotloss(history):\n",
        "  loss = history.history['loss']\n",
        "  val_loss = history.history['val_loss']\n",
        "\n",
        "  epochs_range = range(1, len(loss) + 1)\n",
        "\n",
        "  plt.plot(epochs_range, loss, 'bo', label='Training Loss')\n",
        "  plt.plot(epochs_range, val_loss, 'b', label='Validation Loss')\n",
        "  plt.title('Training ad=nd validation loss')\n",
        "  plt.xlabel('Epochs')\n",
        "  plt.ylabel('Loss')\n",
        "  plt.legend()\n",
        "\n",
        "  plt.show()\n"
      ],
      "execution_count": 28,
      "outputs": []
    },
    {
      "cell_type": "code",
      "metadata": {
        "id": "0_VGrJDwKbF6",
        "colab_type": "code",
        "colab": {
          "base_uri": "https://localhost:8080/",
          "height": 295
        },
        "outputId": "5e2fbdf6-8579-4168-ab65-d8fe09a61030"
      },
      "source": [
        "plotloss(history)"
      ],
      "execution_count": 29,
      "outputs": [
        {
          "output_type": "display_data",
          "data": {
            "image/png": "[encoded data removed]",
            "text/plain": [
              "<Figure size 432x288 with 1 Axes>"
            ]
          },
          "metadata": {
            "tags": [],
            "needs_background": "light"
          }
        }
      ]
    },
    {
      "cell_type": "code",
      "metadata": {
        "id": "VnkStr5lLUTX",
        "colab_type": "code",
        "colab": {}
      },
      "source": [
        "def plotaccuracy(history):\n",
        "  acc = history.history['accuracy']\n",
        "  val_acc = history.history['val_accuracy']\n",
        "  epochs_range = range(1, len(acc) + 1)\n",
        "\n",
        "  plt.plot(epochs_range, acc, 'bo', label='Training Accuracy')\n",
        "  plt.plot(epochs_range, val_acc, 'b', label='Validation Accuracy')\n",
        "  plt.title('Training and validation accuracy')\n",
        "  plt.xlabel('Epochs')\n",
        "  plt.ylabel('Accuracy')\n",
        "  plt.legend()\n",
        "\n",
        "  plt.show()"
      ],
      "execution_count": 34,
      "outputs": []
    },
    {
      "cell_type": "code",
      "metadata": {
        "id": "lg_gp_AwL-tP",
        "colab_type": "code",
        "colab": {
          "base_uri": "https://localhost:8080/",
          "height": 295
        },
        "outputId": "9248bdfe-1443-4272-cb19-330371d0023d"
      },
      "source": [
        "plotaccuracy(history)"
      ],
      "execution_count": 35,
      "outputs": [
        {
          "output_type": "display_data",
          "data": {
            "image/png": "[encoded data removed]",
            "text/plain": [
              "<Figure size 432x288 with 1 Axes>"
            ]
          },
          "metadata": {
            "tags": [],
            "needs_background": "light"
          }
        }
      ]
    },
    {
      "cell_type": "markdown",
      "metadata": {
        "id": "78MsHG5lOdHO",
        "colab_type": "text"
      },
      "source": [
        "From figures it clear, that our models is overfitting."
      ]
    },
    {
      "cell_type": "code",
      "metadata": {
        "id": "rsroLh_tOjsu",
        "colab_type": "code",
        "colab": {
          "base_uri": "https://localhost:8080/",
          "height": 737
        },
        "outputId": "fb009f26-9dbb-4f60-b6db-431a0cff5c55"
      },
      "source": [
        "model = Sequential([\n",
        "    Dense(16, activation='relu', input_shape=(10000,)),\n",
        "    Dense(16, activation='relu'),\n",
        "    Dense(1, activation='sigmoid')\n",
        "])\n",
        "\n",
        "model.compile(\n",
        "    optimizer='rmsprop',\n",
        "    loss='binary_crossentropy',\n",
        "    metrics=['accuracy']\n",
        ")\n",
        "\n",
        "history = model.fit(\n",
        "    partial_x_trian,\n",
        "    partial_y_train,\n",
        "    epochs=4,\n",
        "    batch_size=512,\n",
        "    validation_data=(x_val, y_val)\n",
        ")\n",
        "\n",
        "plotloss(history)\n",
        "plotaccuracy(history)"
      ],
      "execution_count": 37,
      "outputs": [
        {
          "output_type": "stream",
          "text": [
            "Train on 15000 samples, validate on 10000 samples\n",
            "Epoch 1/4\n",
            "15000/15000 [==============================] - 2s 126us/step - loss: 0.4915 - accuracy: 0.7906 - val_loss: 0.3587 - val_accuracy: 0.8717\n",
            "Epoch 2/4\n",
            "15000/15000 [==============================] - 1s 94us/step - loss: 0.2834 - accuracy: 0.9040 - val_loss: 0.3268 - val_accuracy: 0.8670\n",
            "Epoch 3/4\n",
            "15000/15000 [==============================] - 1s 95us/step - loss: 0.2059 - accuracy: 0.9312 - val_loss: 0.2914 - val_accuracy: 0.8806\n",
            "Epoch 4/4\n",
            "15000/15000 [==============================] - 1s 95us/step - loss: 0.1627 - accuracy: 0.9461 - val_loss: 0.2782 - val_accuracy: 0.8855\n"
          ],
          "name": "stdout"
        },
        {
          "output_type": "display_data",
          "data": {
            "image/png": "[encoded data removed]",
            "text/plain": [
              "<Figure size 432x288 with 1 Axes>"
            ]
          },
          "metadata": {
            "tags": [],
            "needs_background": "light"
          }
        },
        {
          "output_type": "display_data",
          "data": {
            "image/png": "[encoded data removed]",
            "text/plain": [
              "<Figure size 432x288 with 1 Axes>"
            ]
          },
          "metadata": {
            "tags": [],
            "needs_background": "light"
          }
        }
      ]
    },
    {
      "cell_type": "code",
      "metadata": {
        "id": "joo2AdpuPqYx",
        "colab_type": "code",
        "colab": {
          "base_uri": "https://localhost:8080/",
          "height": 181
        },
        "outputId": "6aee84c3-ebad-438b-f45c-e18279a7c1f4"
      },
      "source": [
        "model = Sequential([\n",
        "    Dense(16, activation='relu', input_shape=(10000,)),\n",
        "    Dense(16, activation='relu'),\n",
        "    Dense(1, activation='sigmoid')\n",
        "])\n",
        "\n",
        "model.compile(\n",
        "    optimizer='rmsprop',\n",
        "    loss='binary_crossentropy',\n",
        "    metrics=['accuracy']\n",
        ")\n",
        "\n",
        "model.fit(x_train, y_train, epochs=4, batch_size=512)\n",
        "result = model.evaluate(x_test, y_test)"
      ],
      "execution_count": 43,
      "outputs": [
        {
          "output_type": "stream",
          "text": [
            "Epoch 1/4\n",
            "25000/25000 [==============================] - 2s 76us/step - loss: 0.4673 - accuracy: 0.8180\n",
            "Epoch 2/4\n",
            "25000/25000 [==============================] - 2s 70us/step - loss: 0.2678 - accuracy: 0.9073\n",
            "Epoch 3/4\n",
            "25000/25000 [==============================] - 2s 68us/step - loss: 0.2016 - accuracy: 0.9292\n",
            "Epoch 4/4\n",
            "25000/25000 [==============================] - 2s 70us/step - loss: 0.1687 - accuracy: 0.9391\n",
            "25000/25000 [==============================] - 2s 65us/step\n"
          ],
          "name": "stdout"
        }
      ]
    },
    {
      "cell_type": "code",
      "metadata": {
        "id": "cF6KW1GEQIdJ",
        "colab_type": "code",
        "colab": {
          "base_uri": "https://localhost:8080/",
          "height": 35
        },
        "outputId": "8ff88247-d934-4190-8703-f5eeb40d82f3"
      },
      "source": [
        "result"
      ],
      "execution_count": 44,
      "outputs": [
        {
          "output_type": "execute_result",
          "data": {
            "text/plain": [
              "[0.29018137844085695, 0.8860399723052979]"
            ]
          },
          "metadata": {
            "tags": []
          },
          "execution_count": 44
        }
      ]
    },
    {
      "cell_type": "code",
      "metadata": {
        "id": "fCuBhf9wQuKK",
        "colab_type": "code",
        "colab": {
          "base_uri": "https://localhost:8080/",
          "height": 145
        },
        "outputId": "43e1880d-cf25-40d9-9004-d3f76cbcd56e"
      },
      "source": [
        "model.predict(x_test)"
      ],
      "execution_count": 45,
      "outputs": [
        {
          "output_type": "execute_result",
          "data": {
            "text/plain": [
              "array([[0.15407312],\n",
              "       [0.99943733],\n",
              "       [0.8815975 ],\n",
              "       ...,\n",
              "       [0.15250263],\n",
              "       [0.06265625],\n",
              "       [0.6062292 ]], dtype=float32)"
            ]
          },
          "metadata": {
            "tags": []
          },
          "execution_count": 45
        }
      ]
    }
  ]
}